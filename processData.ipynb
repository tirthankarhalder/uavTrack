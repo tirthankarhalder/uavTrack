{
 "cells": [
  {
   "cell_type": "code",
   "execution_count": null,
   "metadata": {},
   "outputs": [],
   "source": [
    "import json\n",
    "import pandas as pd\n",
    "import numpy as np \n",
    "import matplotlib.pyplot as plt\n",
    "import seaborn as sns\n",
    "from matplotlib import cm\n",
    "import os\n",
    "from sklearn.cluster import DBSCAN\n",
    "# from matplotlib.cm import cm\n",
    "# from scipy.stats import mode\n",
    "from datetime import datetime,timedelta\n",
    "from dateutil.relativedelta import relativedelta\n"
   ]
  },
  {
   "cell_type": "code",
   "execution_count": null,
   "metadata": {},
   "outputs": [],
   "source": [
    "\n",
    "\n",
    "def calculate_centroids(data, labels):\n",
    "    unique_labels = np.unique(labels)\n",
    "    centroids = []\n",
    "\n",
    "    for label in unique_labels:\n",
    "        cluster_points = data[labels == label]\n",
    "        centroid = np.mean(cluster_points, axis=0)\n",
    "        centroids.append((label, centroid))\n",
    "    return centroids\n",
    "\n",
    "def find_closest_centroid(previous_centroids, current_centroids, id_mapping, next_id, frame_counts, frame_threshold=20):\n",
    "    new_centroids = []\n",
    "    for curr_label, curr_centroid in current_centroids:\n",
    "        min_distance = float('inf')\n",
    "        closest_centroid = None\n",
    "        closest_prev_label = None\n",
    "\n",
    "        for prev_label, prev_centroid in previous_centroids:\n",
    "            distance = np.linalg.norm(curr_centroid - prev_centroid)\n",
    "            if distance < min_distance:\n",
    "                min_distance = distance\n",
    "                closest_centroid = curr_centroid\n",
    "                closest_prev_label = prev_label\n",
    "\n",
    "        if closest_prev_label is not None and min_distance < 0.5:  # Threshold distance\n",
    "            # Use existing ID if close to a previous centroid, initializing if necessary\n",
    "            centroid_id = id_mapping.get(closest_prev_label, next_id)\n",
    "            if closest_prev_label not in id_mapping:\n",
    "                id_mapping[closest_prev_label] = centroid_id\n",
    "                frame_counts[centroid_id] = 0  # Initialize frame count if first occurrence\n",
    "            frame_counts[centroid_id] += 1  # Increment frame count\n",
    "        else:\n",
    "            # Assign a new ID if no close match found\n",
    "            centroid_id = next_id\n",
    "            id_mapping[curr_label] = centroid_id\n",
    "            frame_counts[centroid_id] = 1  # Initialize frame count\n",
    "            next_id += 1\n",
    "\n",
    "        # Store the ID in the mapping and in the new_centroids list\n",
    "        new_centroids.append((centroid_id, curr_centroid))\n",
    "\n",
    "    # Filter centroids based on frame threshold\n",
    "    valid_centroids = [(cid, c) for cid, c in new_centroids if frame_counts[cid] >= frame_threshold]\n",
    "    return valid_centroids, next_id\n"
   ]
  },
  {
   "cell_type": "code",
   "execution_count": null,
   "metadata": {},
   "outputs": [],
   "source": [
    "visulization = False\n",
    "previous_centroids = []\n",
    "id_mapping = {}\n",
    "frame_counts = {}\n",
    "next_id = 0\n",
    "filePath = \"./data/drone_data_2.txt\"\n",
    "visFile = filePath.split(\"/\")[-1].split(\".\")[0]\n",
    "data = []\n"
   ]
  },
  {
   "cell_type": "code",
   "execution_count": null,
   "metadata": {},
   "outputs": [],
   "source": [
    "\n",
    "with open(filePath, \"r\") as file:\n",
    "    for line in file:\n",
    "        data.append(json.loads(line)[\"answer\"])\n",
    "radarData = pd.DataFrame(data)\n",
    "\n",
    "newDF = radarData\n",
    "radarData['datenow'] = pd.to_datetime(radarData['datenow'], format='%m/%d/%Y')\n",
    "radarData['timenow'] = pd.to_datetime(radarData['timenow'].str.replace('_', ':'), format='%H:%M:%S').dt.time\n",
    "radarData['datetime'] = radarData.apply(lambda row: datetime.combine(row['datenow'], row['timenow']), axis=1)\n",
    "radarData['datetime'] = radarData['datetime'].dt.strftime('%Y-%m-%d %H:%M:%S')\n",
    "radarData = radarData[[\"datetime\",\"dopplerIdx\",\"x_coord\",\"y_coord\",\"z_coord\", \"rp_y\",\"noiserp_y\",\"snrDB\",\"noiseDB\"]]\n",
    "\n",
    "start_time = radarData[\"datetime\"][0]#add milisecond\n",
    "start_time_obj = datetime.strptime(start_time,'%Y-%d-%m %H:%M:%S')\n",
    "frameID = 0\n",
    "time_frames = []\n",
    "print(start_time_obj)\n"
   ]
  },
  {
   "cell_type": "code",
   "execution_count": null,
   "metadata": {},
   "outputs": [],
   "source": [
    "for index,row in radarData.iterrows():\n",
    "    time_current = start_time_obj+timedelta(seconds=frameID*(100)/1000)\n",
    "    datetime_obj = pd.to_datetime(time_current, format='%Y-%d-%m %H:%M:%S.%f')\n",
    "    new_datetime_obj = datetime_obj + relativedelta(months=1)\n",
    "    new_timestamp = new_datetime_obj.strftime('%Y-%m-%d %H:%M:%S.%f')\n",
    "    # time_frames.append(new_timestamp.strftime('%Y-%d-%m %H:%M:%S.%f'))\n",
    "    radarData.loc[index, 'datetime']  = new_timestamp \n",
    "\n",
    "    frameID +=1"
   ]
  },
  {
   "cell_type": "code",
   "execution_count": null,
   "metadata": {},
   "outputs": [],
   "source": [
    "\n",
    "print(\"Dropping NAN rows\")\n",
    "radarData = radarData.dropna()\n",
    "for index, row in radarData.iterrows():\n",
    "    if sum(radarData[\"dopplerIdx\"][index]) == 0:\n",
    "        radarData.drop(index=index)\n",
    "# radarData.to_csv(\"radarData.csv\",index=False)"
   ]
  },
  {
   "cell_type": "code",
   "execution_count": null,
   "metadata": {},
   "outputs": [],
   "source": [
    "\n",
    "teleData = pd.read_csv('./telemetry_data/2024-11-05_17_29_23_telemtry.csv')\n",
    "teleData = teleData[[\"datetime\",\"x_m\",\"y_m\",\"z_m\",\"roll_rad_s\",\"pitch_rad_s\",\"yaw_rad_s\"]]\n",
    "\n",
    "radarData['datetime'] = pd.to_datetime(radarData['datetime'], format='%Y-%m-%d %H:%M:%S.%f')\n",
    "teleData['datetime'] = pd.to_datetime(teleData['datetime'])\n",
    "print(radarData['datetime'][7],teleData['datetime'][7])\n"
   ]
  },
  {
   "cell_type": "code",
   "execution_count": null,
   "metadata": {},
   "outputs": [],
   "source": [
    "\n",
    "mergedTeleRadar = pd.merge_asof(radarData, teleData, on='datetime', direction='nearest')\n",
    "mergedTeleRadar =mergedTeleRadar.dropna(subset=['x_m'])\n",
    "print(\"teleData.shape: \", teleData.shape)\n",
    "print(\"radarData.shape: \", radarData.shape)\n",
    "print(\"200ms - mergedTeleRadar after dropna.shape: \",mergedTeleRadar.shape)\n",
    "# mergedTeleRadar.to_csv(\"mergedTeleRadar.csv\",index=False)\n",
    "# cmap = plt.colormaps.get_cmap(\"tab20\", 20)\n",
    "cmap = cm.get_cmap(\"tab20\", 20)\n"
   ]
  },
  {
   "cell_type": "code",
   "execution_count": null,
   "metadata": {},
   "outputs": [],
   "source": [
    "mergedTeleRadar.tail(5)"
   ]
  },
  {
   "cell_type": "code",
   "execution_count": null,
   "metadata": {},
   "outputs": [],
   "source": [
    "if True : \n",
    "    for index,row in mergedTeleRadar.iterrows(): \n",
    "        frames = 10\n",
    "        if index >= len(mergedTeleRadar) - frames:\n",
    "            break\n",
    "        x_coords = [e for elm in mergedTeleRadar['x_coord'][index:index + frames] for e in elm]\n",
    "        y_coords = [e for elm in mergedTeleRadar['y_coord'][index:index + frames] for e in elm]\n",
    "        z_coords = [e for elm in mergedTeleRadar['z_coord'][index:index + frames] for e in elm]\n",
    "        doppler_idx = [e for elm in mergedTeleRadar['dopplerIdx'][index:index + frames] for e in elm]\n",
    "        colors = [cmap(val % 20) for val in doppler_idx]\n",
    "        sns.set(style=\"whitegrid\")\n",
    "        fig = plt.figure(figsize=(12,6))\n",
    "        ax1 = fig.add_subplot(121,projection='3d')\n",
    "        img1 = ax1.scatter(x_coords, y_coords, z_coords, c = colors, marker='o')\n",
    "        fig.colorbar(img1)\n",
    "        ax1.set_title('Radar PCD')\n",
    "        ax1.set_xlabel('X')\n",
    "        ax1.set_ylabel('Y')\n",
    "        ax1.set_zlabel('Z')\n",
    "        ax1.set_xlim(-7, 9)\n",
    "        ax1.set_ylim(-5, 6)\n",
    "        ax1.set_zlim(-1, 3)\n",
    "\n",
    "        data = np.array([x_coords, y_coords, z_coords]).T\n",
    "        clustering = DBSCAN(eps=1, min_samples=15).fit(data)\n",
    "        cluster_labels = np.array(clustering.labels_)\n",
    "        current_centroids = calculate_centroids(data, cluster_labels)\n",
    "\n",
    "        # Get the closest centroids and assign consistent IDs, keeping only valid ones\n",
    "        valid_centroids, next_id = find_closest_centroid(previous_centroids, current_centroids, id_mapping, next_id, frame_counts, frame_threshold=10)\n",
    "        previous_centroids = current_centroids  # Update previous centroids for next frame\n",
    "        for centroid_id, centroid in valid_centroids:\n",
    "            color = cmap(centroid_id % 20)  # Assign unique color based on ID\n",
    "            ax1.scatter(centroid[0], centroid[1], centroid[2], marker='o', s=200, color=color, label=f'Cluster ID {centroid_id}')\n",
    "        print(f\"Index: {index}\")\n",
    "        ax2 = fig.add_subplot(122,projection='3d')\n",
    "        x_t = [elm for elm in mergedTeleRadar['x_m'][index:index + frames]]\n",
    "        print(x_t)\n",
    "        y_t = [elm for elm in mergedTeleRadar['y_m'][index:index + frames]]\n",
    "        z_t = [elm for elm in mergedTeleRadar['z_m'][index:index + frames]]  \n",
    "        img2 = ax2.scatter(x_t, y_t, z_t,marker='o')\n",
    "        fig.colorbar(img2)\n",
    "        ax2.set_title('Telemetry UAV')\n",
    "        ax2.set_xlabel('X')\n",
    "        ax2.set_ylabel('Y')\n",
    "        ax2.set_zlabel('Z')\n",
    "        ax2.set_xlim(-7, 9)\n",
    "        ax2.set_ylim(-5, 6)\n",
    "        ax2.set_zlim(-1, 3)\n",
    "\n",
    "        plt.legend()\n",
    "        plt.tight_layout()\n",
    "        plt.savefig(f\"./visualization/merged/radarDepth__{str(index)}.png\")\n",
    "        # plt.show()\n",
    "        plt.close()\n",
    "        # if index ==3:\n",
    "        #     break\n",
    "    print(\"Sample Visulization Saved\")\n",
    "\n"
   ]
  },
  {
   "cell_type": "code",
   "execution_count": null,
   "metadata": {},
   "outputs": [],
   "source": [
    "plt.plot(teleData[\"y_m\"])"
   ]
  },
  {
   "cell_type": "code",
   "execution_count": null,
   "metadata": {},
   "outputs": [],
   "source": [
    "print(teleData[\"x_m\"].max())\n",
    "print(teleData[\"y_m\"].max())\n",
    "print(teleData[\"z_m\"].max())\n",
    "print(teleData[\"x_m\"].min())\n",
    "print(teleData[\"y_m\"].min())\n",
    "print(teleData[\"z_m\"].min())"
   ]
  },
  {
   "cell_type": "code",
   "execution_count": null,
   "metadata": {},
   "outputs": [],
   "source": []
  }
 ],
 "metadata": {
  "kernelspec": {
   "display_name": "mmenv",
   "language": "python",
   "name": "python3"
  },
  "language_info": {
   "codemirror_mode": {
    "name": "ipython",
    "version": 3
   },
   "file_extension": ".py",
   "mimetype": "text/x-python",
   "name": "python",
   "nbconvert_exporter": "python",
   "pygments_lexer": "ipython3",
   "version": "3.8.20"
  }
 },
 "nbformat": 4,
 "nbformat_minor": 2
}
