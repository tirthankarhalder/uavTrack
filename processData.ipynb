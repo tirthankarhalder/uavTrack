{
 "cells": [
  {
   "cell_type": "code",
   "execution_count": 21,
   "metadata": {},
   "outputs": [],
   "source": [
    "import json\n",
    "import pandas as pd\n",
    "import numpy as np \n",
    "import matplotlib.pyplot as plt\n",
    "import seaborn as sns\n",
    "from matplotlib import cm\n",
    "import os\n",
    "from sklearn.cluster import DBSCAN\n",
    "# from matplotlib.cm import cm\n",
    "# from scipy.stats import mode\n",
    "from datetime import datetime,timedelta\n",
    "from dateutil.relativedelta import relativedelta\n"
   ]
  },
  {
   "cell_type": "code",
   "execution_count": 22,
   "metadata": {},
   "outputs": [],
   "source": [
    "\n",
    "\n",
    "def calculate_centroids(data, labels):\n",
    "    unique_labels = np.unique(labels)\n",
    "    centroids = []\n",
    "\n",
    "    for label in unique_labels:\n",
    "        cluster_points = data[labels == label]\n",
    "        centroid = np.mean(cluster_points, axis=0)\n",
    "        centroids.append((label, centroid))\n",
    "    return centroids\n",
    "\n",
    "def find_closest_centroid(previous_centroids, current_centroids, id_mapping, next_id, frame_counts, frame_threshold=20):\n",
    "    new_centroids = []\n",
    "    for curr_label, curr_centroid in current_centroids:\n",
    "        min_distance = float('inf')\n",
    "        closest_centroid = None\n",
    "        closest_prev_label = None\n",
    "\n",
    "        for prev_label, prev_centroid in previous_centroids:\n",
    "            distance = np.linalg.norm(curr_centroid - prev_centroid)\n",
    "            if distance < min_distance:\n",
    "                min_distance = distance\n",
    "                closest_centroid = curr_centroid\n",
    "                closest_prev_label = prev_label\n",
    "\n",
    "        if closest_prev_label is not None and min_distance < 0.5:  # Threshold distance\n",
    "            # Use existing ID if close to a previous centroid, initializing if necessary\n",
    "            centroid_id = id_mapping.get(closest_prev_label, next_id)\n",
    "            if closest_prev_label not in id_mapping:\n",
    "                id_mapping[closest_prev_label] = centroid_id\n",
    "                frame_counts[centroid_id] = 0  # Initialize frame count if first occurrence\n",
    "            frame_counts[centroid_id] += 1  # Increment frame count\n",
    "        else:\n",
    "            # Assign a new ID if no close match found\n",
    "            centroid_id = next_id\n",
    "            id_mapping[curr_label] = centroid_id\n",
    "            frame_counts[centroid_id] = 1  # Initialize frame count\n",
    "            next_id += 1\n",
    "\n",
    "        # Store the ID in the mapping and in the new_centroids list\n",
    "        new_centroids.append((centroid_id, curr_centroid))\n",
    "\n",
    "    # Filter centroids based on frame threshold\n",
    "    valid_centroids = [(cid, c) for cid, c in new_centroids if frame_counts[cid] >= frame_threshold]\n",
    "    return valid_centroids, next_id\n"
   ]
  },
  {
   "cell_type": "code",
   "execution_count": 23,
   "metadata": {},
   "outputs": [],
   "source": [
    "visulization = False\n",
    "previous_centroids = []\n",
    "id_mapping = {}\n",
    "frame_counts = {}\n",
    "next_id = 0\n",
    "filePath = \"./data/drone_data_2.txt\"\n",
    "visFile = filePath.split(\"/\")[-1].split(\".\")[0]\n",
    "data = []\n"
   ]
  },
  {
   "cell_type": "code",
   "execution_count": 24,
   "metadata": {},
   "outputs": [
    {
     "name": "stdout",
     "output_type": "stream",
     "text": [
      "2024-10-05 17:29:19\n"
     ]
    }
   ],
   "source": [
    "\n",
    "with open(filePath, \"r\") as file:\n",
    "    for line in file:\n",
    "        data.append(json.loads(line)[\"answer\"])\n",
    "radarData = pd.DataFrame(data)\n",
    "\n",
    "newDF = radarData\n",
    "radarData['datenow'] = pd.to_datetime(radarData['datenow'], format='%m/%d/%Y')\n",
    "radarData['timenow'] = pd.to_datetime(radarData['timenow'].str.replace('_', ':'), format='%H:%M:%S').dt.time\n",
    "radarData['datetime'] = radarData.apply(lambda row: datetime.combine(row['datenow'], row['timenow']), axis=1)\n",
    "radarData['datetime'] = radarData['datetime'].dt.strftime('%Y-%m-%d %H:%M:%S')\n",
    "radarData = radarData[[\"datetime\",\"dopplerIdx\",\"x_coord\",\"y_coord\",\"z_coord\", \"rp_y\",\"noiserp_y\",\"snrDB\",\"noiseDB\"]]\n",
    "\n",
    "start_time = radarData[\"datetime\"][0]#add milisecond\n",
    "start_time_obj = datetime.strptime(start_time,'%Y-%d-%m %H:%M:%S')\n",
    "frameID = 0\n",
    "time_frames = []\n",
    "print(start_time_obj)\n"
   ]
  },
  {
   "cell_type": "code",
   "execution_count": 30,
   "metadata": {},
   "outputs": [],
   "source": [
    "for index,row in radarData.iterrows():\n",
    "    time_current = start_time_obj+timedelta(seconds=frameID*(100)/1000)\n",
    "    datetime_obj = pd.to_datetime(time_current, format='%Y-%d-%m %H:%M:%S.%f')\n",
    "    new_datetime_obj = datetime_obj + relativedelta(months=1)\n",
    "    new_timestamp = new_datetime_obj.strftime('%Y-%m-%d %H:%M:%S.%f')\n",
    "    # time_frames.append(new_timestamp.strftime('%Y-%d-%m %H:%M:%S.%f'))\n",
    "    radarData.loc[index, 'datetime']  = new_timestamp \n",
    "\n",
    "    frameID +=1"
   ]
  },
  {
   "cell_type": "code",
   "execution_count": 26,
   "metadata": {},
   "outputs": [
    {
     "name": "stdout",
     "output_type": "stream",
     "text": [
      "Dropping NAN rows\n"
     ]
    }
   ],
   "source": [
    "\n",
    "print(\"Dropping NAN rows\")\n",
    "radarData = radarData.dropna()\n",
    "for index, row in radarData.iterrows():\n",
    "    if sum(radarData[\"dopplerIdx\"][index]) == 0:\n",
    "        radarData.drop(index=index)\n",
    "# radarData.to_csv(\"radarData.csv\",index=False)"
   ]
  },
  {
   "cell_type": "code",
   "execution_count": 31,
   "metadata": {},
   "outputs": [
    {
     "name": "stdout",
     "output_type": "stream",
     "text": [
      "2024-11-05 17:34:52.700000 2024-11-05 17:29:26.525936\n"
     ]
    }
   ],
   "source": [
    "\n",
    "teleData = pd.read_csv('./telemetry_data/2024-11-05_17_29_23_telemtry.csv')\n",
    "teleData = teleData[[\"datetime\",\"x_m\",\"y_m\",\"z_m\",\"roll_rad_s\",\"pitch_rad_s\",\"yaw_rad_s\"]]\n",
    "\n",
    "radarData['datetime'] = pd.to_datetime(radarData['datetime'], format='%Y-%m-%d %H:%M:%S.%f')\n",
    "teleData['datetime'] = pd.to_datetime(teleData['datetime'])\n",
    "print(radarData['datetime'][7],teleData['datetime'][7])\n"
   ]
  },
  {
   "cell_type": "code",
   "execution_count": 32,
   "metadata": {},
   "outputs": [
    {
     "name": "stdout",
     "output_type": "stream",
     "text": [
      "teleData.shape:  (10306, 7)\n",
      "radarData.shape:  (2336, 9)\n",
      "200ms - mergedTeleRadar after dropna.shape:  (2336, 15)\n"
     ]
    },
    {
     "name": "stderr",
     "output_type": "stream",
     "text": [
      "/tmp/ipykernel_2393937/2826881113.py:8: MatplotlibDeprecationWarning: The get_cmap function was deprecated in Matplotlib 3.7 and will be removed two minor releases later. Use ``matplotlib.colormaps[name]`` or ``matplotlib.colormaps.get_cmap(obj)`` instead.\n",
      "  cmap = cm.get_cmap(\"tab20\", 20)\n"
     ]
    }
   ],
   "source": [
    "\n",
    "mergedTeleRadar = pd.merge_asof(radarData, teleData, on='datetime', direction='nearest')\n",
    "mergedTeleRadar =mergedTeleRadar.dropna(subset=['x_m'])\n",
    "print(\"teleData.shape: \", teleData.shape)\n",
    "print(\"radarData.shape: \", radarData.shape)\n",
    "print(\"200ms - mergedTeleRadar after dropna.shape: \",mergedTeleRadar.shape)\n",
    "# mergedTeleRadar.to_csv(\"mergedTeleRadar.csv\",index=False)\n",
    "# cmap = plt.colormaps.get_cmap(\"tab20\", 20)\n",
    "cmap = cm.get_cmap(\"tab20\", 20)\n"
   ]
  },
  {
   "cell_type": "code",
   "execution_count": 33,
   "metadata": {},
   "outputs": [
    {
     "data": {
      "text/html": [
       "<div>\n",
       "<style scoped>\n",
       "    .dataframe tbody tr th:only-of-type {\n",
       "        vertical-align: middle;\n",
       "    }\n",
       "\n",
       "    .dataframe tbody tr th {\n",
       "        vertical-align: top;\n",
       "    }\n",
       "\n",
       "    .dataframe thead th {\n",
       "        text-align: right;\n",
       "    }\n",
       "</style>\n",
       "<table border=\"1\" class=\"dataframe\">\n",
       "  <thead>\n",
       "    <tr style=\"text-align: right;\">\n",
       "      <th></th>\n",
       "      <th>datetime</th>\n",
       "      <th>dopplerIdx</th>\n",
       "      <th>x_coord</th>\n",
       "      <th>y_coord</th>\n",
       "      <th>z_coord</th>\n",
       "      <th>rp_y</th>\n",
       "      <th>noiserp_y</th>\n",
       "      <th>snrDB</th>\n",
       "      <th>noiseDB</th>\n",
       "      <th>x_m</th>\n",
       "      <th>y_m</th>\n",
       "      <th>z_m</th>\n",
       "      <th>roll_rad_s</th>\n",
       "      <th>pitch_rad_s</th>\n",
       "      <th>yaw_rad_s</th>\n",
       "    </tr>\n",
       "  </thead>\n",
       "  <tbody>\n",
       "    <tr>\n",
       "      <th>0</th>\n",
       "      <td>2024-11-05 17:34:52.600</td>\n",
       "      <td>[0]</td>\n",
       "      <td>[-0.8727030754089355]</td>\n",
       "      <td>[0.08945613354444504]</td>\n",
       "      <td>[-0.917457640171051]</td>\n",
       "      <td>[86.93939246479692, 92.27013197134659, 95.9075...</td>\n",
       "      <td>[35.35664841612515, 37.77115983968, 39.0881660...</td>\n",
       "      <td>[11.700000000000001]</td>\n",
       "      <td>[59.900000000000006]</td>\n",
       "      <td>0.081293</td>\n",
       "      <td>-1.934721</td>\n",
       "      <td>0.904508</td>\n",
       "      <td>0.013519</td>\n",
       "      <td>-0.029905</td>\n",
       "      <td>0.026537</td>\n",
       "    </tr>\n",
       "    <tr>\n",
       "      <th>1</th>\n",
       "      <td>2024-11-05 17:34:52.700</td>\n",
       "      <td>[0]</td>\n",
       "      <td>[-0.8330347537994385]</td>\n",
       "      <td>[0.17262676358222961]</td>\n",
       "      <td>[-0.9421224594116211]</td>\n",
       "      <td>[86.90803517358194, 92.3014892625616, 95.90757...</td>\n",
       "      <td>[37.175371306595046, 34.4786442621052, 33.7887...</td>\n",
       "      <td>[12]</td>\n",
       "      <td>[59.2]</td>\n",
       "      <td>0.082730</td>\n",
       "      <td>-1.896414</td>\n",
       "      <td>0.905957</td>\n",
       "      <td>-0.041808</td>\n",
       "      <td>0.000712</td>\n",
       "      <td>0.002439</td>\n",
       "    </tr>\n",
       "    <tr>\n",
       "      <th>2</th>\n",
       "      <td>2024-11-05 17:34:52.800</td>\n",
       "      <td>[0]</td>\n",
       "      <td>[-0.8330347537994385]</td>\n",
       "      <td>[0.2129267454147339]</td>\n",
       "      <td>[-0.9338398575782776]</td>\n",
       "      <td>[86.87667788236692, 92.27013197134659, 95.9075...</td>\n",
       "      <td>[36.45415360865008, 35.921079657995115, 38.272...</td>\n",
       "      <td>[11.3]</td>\n",
       "      <td>[60]</td>\n",
       "      <td>0.075372</td>\n",
       "      <td>-1.850321</td>\n",
       "      <td>0.908989</td>\n",
       "      <td>0.007556</td>\n",
       "      <td>0.018423</td>\n",
       "      <td>-0.011260</td>\n",
       "    </tr>\n",
       "    <tr>\n",
       "      <th>3</th>\n",
       "      <td>2024-11-05 17:34:52.900</td>\n",
       "      <td>[0]</td>\n",
       "      <td>[-0.8330347537994385]</td>\n",
       "      <td>[0.21448945999145508]</td>\n",
       "      <td>[-0.9334821701049805]</td>\n",
       "      <td>[86.97074975601191, 92.20741738891661, 95.9075...</td>\n",
       "      <td>[35.04307550397517, 38.05337546061498, 38.7745...</td>\n",
       "      <td>[11.200000000000001]</td>\n",
       "      <td>[59.900000000000006]</td>\n",
       "      <td>0.067528</td>\n",
       "      <td>-1.813315</td>\n",
       "      <td>0.913229</td>\n",
       "      <td>0.042892</td>\n",
       "      <td>-0.004034</td>\n",
       "      <td>-0.041149</td>\n",
       "    </tr>\n",
       "    <tr>\n",
       "      <th>4</th>\n",
       "      <td>2024-11-05 17:34:53.000</td>\n",
       "      <td>[0]</td>\n",
       "      <td>[-0.8727030754089355]</td>\n",
       "      <td>[0.08166239410638809]</td>\n",
       "      <td>[-0.9181841611862183]</td>\n",
       "      <td>[86.90803517358194, 92.20741738891661, 95.9075...</td>\n",
       "      <td>[35.07443279519017, 37.144014015380044, 39.433...</td>\n",
       "      <td>[11.600000000000001]</td>\n",
       "      <td>[59.800000000000004]</td>\n",
       "      <td>0.053172</td>\n",
       "      <td>-1.768407</td>\n",
       "      <td>0.923403</td>\n",
       "      <td>-0.047960</td>\n",
       "      <td>-0.011644</td>\n",
       "      <td>-0.000249</td>\n",
       "    </tr>\n",
       "  </tbody>\n",
       "</table>\n",
       "</div>"
      ],
      "text/plain": [
       "                 datetime dopplerIdx                x_coord  \\\n",
       "0 2024-11-05 17:34:52.600        [0]  [-0.8727030754089355]   \n",
       "1 2024-11-05 17:34:52.700        [0]  [-0.8330347537994385]   \n",
       "2 2024-11-05 17:34:52.800        [0]  [-0.8330347537994385]   \n",
       "3 2024-11-05 17:34:52.900        [0]  [-0.8330347537994385]   \n",
       "4 2024-11-05 17:34:53.000        [0]  [-0.8727030754089355]   \n",
       "\n",
       "                 y_coord                z_coord  \\\n",
       "0  [0.08945613354444504]   [-0.917457640171051]   \n",
       "1  [0.17262676358222961]  [-0.9421224594116211]   \n",
       "2   [0.2129267454147339]  [-0.9338398575782776]   \n",
       "3  [0.21448945999145508]  [-0.9334821701049805]   \n",
       "4  [0.08166239410638809]  [-0.9181841611862183]   \n",
       "\n",
       "                                                rp_y  \\\n",
       "0  [86.93939246479692, 92.27013197134659, 95.9075...   \n",
       "1  [86.90803517358194, 92.3014892625616, 95.90757...   \n",
       "2  [86.87667788236692, 92.27013197134659, 95.9075...   \n",
       "3  [86.97074975601191, 92.20741738891661, 95.9075...   \n",
       "4  [86.90803517358194, 92.20741738891661, 95.9075...   \n",
       "\n",
       "                                           noiserp_y                 snrDB  \\\n",
       "0  [35.35664841612515, 37.77115983968, 39.0881660...  [11.700000000000001]   \n",
       "1  [37.175371306595046, 34.4786442621052, 33.7887...                  [12]   \n",
       "2  [36.45415360865008, 35.921079657995115, 38.272...                [11.3]   \n",
       "3  [35.04307550397517, 38.05337546061498, 38.7745...  [11.200000000000001]   \n",
       "4  [35.07443279519017, 37.144014015380044, 39.433...  [11.600000000000001]   \n",
       "\n",
       "                noiseDB       x_m       y_m       z_m  roll_rad_s  \\\n",
       "0  [59.900000000000006]  0.081293 -1.934721  0.904508    0.013519   \n",
       "1                [59.2]  0.082730 -1.896414  0.905957   -0.041808   \n",
       "2                  [60]  0.075372 -1.850321  0.908989    0.007556   \n",
       "3  [59.900000000000006]  0.067528 -1.813315  0.913229    0.042892   \n",
       "4  [59.800000000000004]  0.053172 -1.768407  0.923403   -0.047960   \n",
       "\n",
       "   pitch_rad_s  yaw_rad_s  \n",
       "0    -0.029905   0.026537  \n",
       "1     0.000712   0.002439  \n",
       "2     0.018423  -0.011260  \n",
       "3    -0.004034  -0.041149  \n",
       "4    -0.011644  -0.000249  "
      ]
     },
     "execution_count": 33,
     "metadata": {},
     "output_type": "execute_result"
    }
   ],
   "source": [
    "mergedTeleRadar.head(5)"
   ]
  },
  {
   "cell_type": "code",
   "execution_count": null,
   "metadata": {},
   "outputs": [
    {
     "name": "stderr",
     "output_type": "stream",
     "text": [
      "No artists with labels found to put in legend.  Note that artists whose label start with an underscore are ignored when legend() is called with no argument.\n"
     ]
    },
    {
     "name": "stdout",
     "output_type": "stream",
     "text": [
      "Index: 0\n",
      "[0.0812933444976806, 0.0827300772070884, 0.0753716751933097, 0.0675283744931221, 0.0531719624996185, 0.0358906500041484, 0.0138838831335306, -0.0107107441872358, -0.0394795536994934, -0.0704944059252739]\n"
     ]
    },
    {
     "name": "stderr",
     "output_type": "stream",
     "text": [
      "No artists with labels found to put in legend.  Note that artists whose label start with an underscore are ignored when legend() is called with no argument.\n"
     ]
    },
    {
     "name": "stdout",
     "output_type": "stream",
     "text": [
      "Index: 1\n",
      "[0.0827300772070884, 0.0753716751933097, 0.0675283744931221, 0.0531719624996185, 0.0358906500041484, 0.0138838831335306, -0.0107107441872358, -0.0394795536994934, -0.0704944059252739, -0.1052102893590927]\n"
     ]
    },
    {
     "name": "stderr",
     "output_type": "stream",
     "text": [
      "No artists with labels found to put in legend.  Note that artists whose label start with an underscore are ignored when legend() is called with no argument.\n"
     ]
    },
    {
     "name": "stdout",
     "output_type": "stream",
     "text": [
      "Index: 2\n",
      "[0.0753716751933097, 0.0675283744931221, 0.0531719624996185, 0.0358906500041484, 0.0138838831335306, -0.0107107441872358, -0.0394795536994934, -0.0704944059252739, -0.1052102893590927, -0.1418535709381103]\n"
     ]
    },
    {
     "name": "stderr",
     "output_type": "stream",
     "text": [
      "No artists with labels found to put in legend.  Note that artists whose label start with an underscore are ignored when legend() is called with no argument.\n"
     ]
    },
    {
     "name": "stdout",
     "output_type": "stream",
     "text": [
      "Index: 3\n",
      "[0.0675283744931221, 0.0531719624996185, 0.0358906500041484, 0.0138838831335306, -0.0107107441872358, -0.0394795536994934, -0.0704944059252739, -0.1052102893590927, -0.1418535709381103, -0.1766931414604187]\n"
     ]
    },
    {
     "name": "stderr",
     "output_type": "stream",
     "text": [
      "No artists with labels found to put in legend.  Note that artists whose label start with an underscore are ignored when legend() is called with no argument.\n"
     ]
    },
    {
     "name": "stdout",
     "output_type": "stream",
     "text": [
      "Index: 4\n",
      "[0.0531719624996185, 0.0358906500041484, 0.0138838831335306, -0.0107107441872358, -0.0394795536994934, -0.0704944059252739, -0.1052102893590927, -0.1418535709381103, -0.1766931414604187, -0.218200609087944]\n"
     ]
    },
    {
     "name": "stderr",
     "output_type": "stream",
     "text": [
      "No artists with labels found to put in legend.  Note that artists whose label start with an underscore are ignored when legend() is called with no argument.\n"
     ]
    },
    {
     "name": "stdout",
     "output_type": "stream",
     "text": [
      "Index: 5\n",
      "[0.0358906500041484, 0.0138838831335306, -0.0107107441872358, -0.0394795536994934, -0.0704944059252739, -0.1052102893590927, -0.1418535709381103, -0.1766931414604187, -0.218200609087944, -0.2587962746620178]\n"
     ]
    },
    {
     "name": "stderr",
     "output_type": "stream",
     "text": [
      "No artists with labels found to put in legend.  Note that artists whose label start with an underscore are ignored when legend() is called with no argument.\n"
     ]
    },
    {
     "name": "stdout",
     "output_type": "stream",
     "text": [
      "Index: 6\n",
      "[0.0138838831335306, -0.0107107441872358, -0.0394795536994934, -0.0704944059252739, -0.1052102893590927, -0.1418535709381103, -0.1766931414604187, -0.218200609087944, -0.2587962746620178, -0.3005154728889465]\n"
     ]
    },
    {
     "name": "stderr",
     "output_type": "stream",
     "text": [
      "No artists with labels found to put in legend.  Note that artists whose label start with an underscore are ignored when legend() is called with no argument.\n"
     ]
    },
    {
     "name": "stdout",
     "output_type": "stream",
     "text": [
      "Index: 7\n",
      "[-0.0107107441872358, -0.0394795536994934, -0.0704944059252739, -0.1052102893590927, -0.1418535709381103, -0.1766931414604187, -0.218200609087944, -0.2587962746620178, -0.3005154728889465, -0.3400378227233886]\n"
     ]
    },
    {
     "name": "stderr",
     "output_type": "stream",
     "text": [
      "No artists with labels found to put in legend.  Note that artists whose label start with an underscore are ignored when legend() is called with no argument.\n"
     ]
    },
    {
     "name": "stdout",
     "output_type": "stream",
     "text": [
      "Index: 8\n",
      "[-0.0394795536994934, -0.0704944059252739, -0.1052102893590927, -0.1418535709381103, -0.1766931414604187, -0.218200609087944, -0.2587962746620178, -0.3005154728889465, -0.3400378227233886, -0.3791965544223785]\n"
     ]
    },
    {
     "name": "stderr",
     "output_type": "stream",
     "text": [
      "No artists with labels found to put in legend.  Note that artists whose label start with an underscore are ignored when legend() is called with no argument.\n"
     ]
    },
    {
     "name": "stdout",
     "output_type": "stream",
     "text": [
      "Index: 9\n",
      "[-0.0704944059252739, -0.1052102893590927, -0.1418535709381103, -0.1766931414604187, -0.218200609087944, -0.2587962746620178, -0.3005154728889465, -0.3400378227233886, -0.3791965544223785, -0.4109706878662109]\n"
     ]
    },
    {
     "name": "stderr",
     "output_type": "stream",
     "text": [
      "No artists with labels found to put in legend.  Note that artists whose label start with an underscore are ignored when legend() is called with no argument.\n"
     ]
    },
    {
     "name": "stdout",
     "output_type": "stream",
     "text": [
      "Index: 10\n",
      "[-0.1052102893590927, -0.1418535709381103, -0.1766931414604187, -0.218200609087944, -0.2587962746620178, -0.3005154728889465, -0.3400378227233886, -0.3791965544223785, -0.4109706878662109, -0.4471536874771118]\n"
     ]
    },
    {
     "name": "stderr",
     "output_type": "stream",
     "text": [
      "No artists with labels found to put in legend.  Note that artists whose label start with an underscore are ignored when legend() is called with no argument.\n"
     ]
    },
    {
     "name": "stdout",
     "output_type": "stream",
     "text": [
      "Index: 11\n",
      "[-0.1418535709381103, -0.1766931414604187, -0.218200609087944, -0.2587962746620178, -0.3005154728889465, -0.3400378227233886, -0.3791965544223785, -0.4109706878662109, -0.4471536874771118, -0.4794609248638153]\n"
     ]
    },
    {
     "name": "stderr",
     "output_type": "stream",
     "text": [
      "No artists with labels found to put in legend.  Note that artists whose label start with an underscore are ignored when legend() is called with no argument.\n"
     ]
    },
    {
     "name": "stdout",
     "output_type": "stream",
     "text": [
      "Index: 12\n",
      "[-0.1766931414604187, -0.218200609087944, -0.2587962746620178, -0.3005154728889465, -0.3400378227233886, -0.3791965544223785, -0.4109706878662109, -0.4471536874771118, -0.4794609248638153, -0.5133309960365295]\n"
     ]
    },
    {
     "name": "stderr",
     "output_type": "stream",
     "text": [
      "No artists with labels found to put in legend.  Note that artists whose label start with an underscore are ignored when legend() is called with no argument.\n"
     ]
    },
    {
     "name": "stdout",
     "output_type": "stream",
     "text": [
      "Index: 13\n",
      "[-0.218200609087944, -0.2587962746620178, -0.3005154728889465, -0.3400378227233886, -0.3791965544223785, -0.4109706878662109, -0.4471536874771118, -0.4794609248638153, -0.5133309960365295, -0.5446715354919434]\n"
     ]
    },
    {
     "name": "stderr",
     "output_type": "stream",
     "text": [
      "No artists with labels found to put in legend.  Note that artists whose label start with an underscore are ignored when legend() is called with no argument.\n"
     ]
    },
    {
     "name": "stdout",
     "output_type": "stream",
     "text": [
      "Index: 14\n",
      "[-0.2587962746620178, -0.3005154728889465, -0.3400378227233886, -0.3791965544223785, -0.4109706878662109, -0.4471536874771118, -0.4794609248638153, -0.5133309960365295, -0.5446715354919434, -0.5780044198036194]\n"
     ]
    },
    {
     "name": "stderr",
     "output_type": "stream",
     "text": [
      "No artists with labels found to put in legend.  Note that artists whose label start with an underscore are ignored when legend() is called with no argument.\n"
     ]
    },
    {
     "name": "stdout",
     "output_type": "stream",
     "text": [
      "Index: 15\n",
      "[-0.3005154728889465, -0.3400378227233886, -0.3791965544223785, -0.4109706878662109, -0.4471536874771118, -0.4794609248638153, -0.5133309960365295, -0.5446715354919434, -0.5780044198036194, -0.6098572611808777]\n"
     ]
    },
    {
     "name": "stderr",
     "output_type": "stream",
     "text": [
      "No artists with labels found to put in legend.  Note that artists whose label start with an underscore are ignored when legend() is called with no argument.\n"
     ]
    },
    {
     "name": "stdout",
     "output_type": "stream",
     "text": [
      "Index: 16\n",
      "[-0.3400378227233886, -0.3791965544223785, -0.4109706878662109, -0.4471536874771118, -0.4794609248638153, -0.5133309960365295, -0.5446715354919434, -0.5780044198036194, -0.6098572611808777, -0.6433750987052917]\n"
     ]
    },
    {
     "name": "stderr",
     "output_type": "stream",
     "text": [
      "No artists with labels found to put in legend.  Note that artists whose label start with an underscore are ignored when legend() is called with no argument.\n"
     ]
    },
    {
     "name": "stdout",
     "output_type": "stream",
     "text": [
      "Index: 17\n",
      "[-0.3791965544223785, -0.4109706878662109, -0.4471536874771118, -0.4794609248638153, -0.5133309960365295, -0.5446715354919434, -0.5780044198036194, -0.6098572611808777, -0.6433750987052917, -0.6410289406776428]\n"
     ]
    },
    {
     "name": "stderr",
     "output_type": "stream",
     "text": [
      "No artists with labels found to put in legend.  Note that artists whose label start with an underscore are ignored when legend() is called with no argument.\n"
     ]
    },
    {
     "name": "stdout",
     "output_type": "stream",
     "text": [
      "Index: 18\n",
      "[-0.4109706878662109, -0.4471536874771118, -0.4794609248638153, -0.5133309960365295, -0.5446715354919434, -0.5780044198036194, -0.6098572611808777, -0.6433750987052917, -0.6410289406776428, -0.6329483389854431]\n"
     ]
    },
    {
     "name": "stderr",
     "output_type": "stream",
     "text": [
      "No artists with labels found to put in legend.  Note that artists whose label start with an underscore are ignored when legend() is called with no argument.\n"
     ]
    },
    {
     "name": "stdout",
     "output_type": "stream",
     "text": [
      "Index: 19\n",
      "[-0.4471536874771118, -0.4794609248638153, -0.5133309960365295, -0.5446715354919434, -0.5780044198036194, -0.6098572611808777, -0.6433750987052917, -0.6410289406776428, -0.6329483389854431, -0.6157172322273254]\n"
     ]
    },
    {
     "name": "stderr",
     "output_type": "stream",
     "text": [
      "No artists with labels found to put in legend.  Note that artists whose label start with an underscore are ignored when legend() is called with no argument.\n"
     ]
    },
    {
     "name": "stdout",
     "output_type": "stream",
     "text": [
      "Index: 20\n",
      "[-0.4794609248638153, -0.5133309960365295, -0.5446715354919434, -0.5780044198036194, -0.6098572611808777, -0.6433750987052917, -0.6410289406776428, -0.6329483389854431, -0.6157172322273254, -0.6086857318878174]\n"
     ]
    },
    {
     "name": "stderr",
     "output_type": "stream",
     "text": [
      "No artists with labels found to put in legend.  Note that artists whose label start with an underscore are ignored when legend() is called with no argument.\n"
     ]
    },
    {
     "name": "stdout",
     "output_type": "stream",
     "text": [
      "Index: 21\n",
      "[-0.5133309960365295, -0.5446715354919434, -0.5780044198036194, -0.6098572611808777, -0.6433750987052917, -0.6410289406776428, -0.6329483389854431, -0.6157172322273254, -0.6086857318878174, -0.5994635820388794]\n"
     ]
    },
    {
     "name": "stderr",
     "output_type": "stream",
     "text": [
      "No artists with labels found to put in legend.  Note that artists whose label start with an underscore are ignored when legend() is called with no argument.\n"
     ]
    },
    {
     "name": "stdout",
     "output_type": "stream",
     "text": [
      "Index: 22\n",
      "[-0.5446715354919434, -0.5780044198036194, -0.6098572611808777, -0.6433750987052917, -0.6410289406776428, -0.6329483389854431, -0.6157172322273254, -0.6086857318878174, -0.5994635820388794, -0.5912944078445435]\n"
     ]
    },
    {
     "name": "stderr",
     "output_type": "stream",
     "text": [
      "No artists with labels found to put in legend.  Note that artists whose label start with an underscore are ignored when legend() is called with no argument.\n"
     ]
    },
    {
     "name": "stdout",
     "output_type": "stream",
     "text": [
      "Index: 23\n",
      "[-0.5780044198036194, -0.6098572611808777, -0.6433750987052917, -0.6410289406776428, -0.6329483389854431, -0.6157172322273254, -0.6086857318878174, -0.5994635820388794, -0.5912944078445435, -0.5802350640296936]\n"
     ]
    },
    {
     "name": "stderr",
     "output_type": "stream",
     "text": [
      "No artists with labels found to put in legend.  Note that artists whose label start with an underscore are ignored when legend() is called with no argument.\n"
     ]
    },
    {
     "name": "stdout",
     "output_type": "stream",
     "text": [
      "Index: 24\n",
      "[-0.6098572611808777, -0.6433750987052917, -0.6410289406776428, -0.6329483389854431, -0.6157172322273254, -0.6086857318878174, -0.5994635820388794, -0.5912944078445435, -0.5802350640296936, -0.5730639100074768]\n"
     ]
    },
    {
     "name": "stderr",
     "output_type": "stream",
     "text": [
      "No artists with labels found to put in legend.  Note that artists whose label start with an underscore are ignored when legend() is called with no argument.\n"
     ]
    },
    {
     "name": "stdout",
     "output_type": "stream",
     "text": [
      "Index: 25\n",
      "[-0.6433750987052917, -0.6410289406776428, -0.6329483389854431, -0.6157172322273254, -0.6086857318878174, -0.5994635820388794, -0.5912944078445435, -0.5802350640296936, -0.5730639100074768, -0.5627394318580627]\n"
     ]
    },
    {
     "name": "stderr",
     "output_type": "stream",
     "text": [
      "No artists with labels found to put in legend.  Note that artists whose label start with an underscore are ignored when legend() is called with no argument.\n"
     ]
    },
    {
     "name": "stdout",
     "output_type": "stream",
     "text": [
      "Index: 26\n",
      "[-0.6410289406776428, -0.6329483389854431, -0.6157172322273254, -0.6086857318878174, -0.5994635820388794, -0.5912944078445435, -0.5802350640296936, -0.5730639100074768, -0.5627394318580627, -0.5555706024169922]\n"
     ]
    },
    {
     "name": "stderr",
     "output_type": "stream",
     "text": [
      "No artists with labels found to put in legend.  Note that artists whose label start with an underscore are ignored when legend() is called with no argument.\n"
     ]
    },
    {
     "name": "stdout",
     "output_type": "stream",
     "text": [
      "Index: 27\n",
      "[-0.6329483389854431, -0.6157172322273254, -0.6086857318878174, -0.5994635820388794, -0.5912944078445435, -0.5802350640296936, -0.5730639100074768, -0.5627394318580627, -0.5555706024169922, -0.5437185764312744]\n"
     ]
    },
    {
     "name": "stderr",
     "output_type": "stream",
     "text": [
      "No artists with labels found to put in legend.  Note that artists whose label start with an underscore are ignored when legend() is called with no argument.\n"
     ]
    },
    {
     "name": "stdout",
     "output_type": "stream",
     "text": [
      "Index: 28\n",
      "[-0.6157172322273254, -0.6086857318878174, -0.5994635820388794, -0.5912944078445435, -0.5802350640296936, -0.5730639100074768, -0.5627394318580627, -0.5555706024169922, -0.5437185764312744, -0.5357890725135803]\n"
     ]
    },
    {
     "name": "stderr",
     "output_type": "stream",
     "text": [
      "No artists with labels found to put in legend.  Note that artists whose label start with an underscore are ignored when legend() is called with no argument.\n"
     ]
    },
    {
     "name": "stdout",
     "output_type": "stream",
     "text": [
      "Index: 29\n",
      "[-0.6086857318878174, -0.5994635820388794, -0.5912944078445435, -0.5802350640296936, -0.5730639100074768, -0.5627394318580627, -0.5555706024169922, -0.5437185764312744, -0.5357890725135803, -0.5234861373901367]\n"
     ]
    },
    {
     "name": "stderr",
     "output_type": "stream",
     "text": [
      "No artists with labels found to put in legend.  Note that artists whose label start with an underscore are ignored when legend() is called with no argument.\n"
     ]
    },
    {
     "name": "stdout",
     "output_type": "stream",
     "text": [
      "Index: 30\n",
      "[-0.5994635820388794, -0.5912944078445435, -0.5802350640296936, -0.5730639100074768, -0.5627394318580627, -0.5555706024169922, -0.5437185764312744, -0.5357890725135803, -0.5234861373901367, -0.5152773261070251]\n"
     ]
    },
    {
     "name": "stderr",
     "output_type": "stream",
     "text": [
      "No artists with labels found to put in legend.  Note that artists whose label start with an underscore are ignored when legend() is called with no argument.\n"
     ]
    },
    {
     "name": "stdout",
     "output_type": "stream",
     "text": [
      "Index: 31\n",
      "[-0.5912944078445435, -0.5802350640296936, -0.5730639100074768, -0.5627394318580627, -0.5555706024169922, -0.5437185764312744, -0.5357890725135803, -0.5234861373901367, -0.5152773261070251, -0.5176513195037842]\n"
     ]
    },
    {
     "name": "stderr",
     "output_type": "stream",
     "text": [
      "No artists with labels found to put in legend.  Note that artists whose label start with an underscore are ignored when legend() is called with no argument.\n"
     ]
    },
    {
     "name": "stdout",
     "output_type": "stream",
     "text": [
      "Index: 32\n",
      "[-0.5802350640296936, -0.5730639100074768, -0.5627394318580627, -0.5555706024169922, -0.5437185764312744, -0.5357890725135803, -0.5234861373901367, -0.5152773261070251, -0.5176513195037842, -0.6252459287643433]\n"
     ]
    },
    {
     "name": "stderr",
     "output_type": "stream",
     "text": [
      "No artists with labels found to put in legend.  Note that artists whose label start with an underscore are ignored when legend() is called with no argument.\n"
     ]
    },
    {
     "name": "stdout",
     "output_type": "stream",
     "text": [
      "Index: 33\n",
      "[-0.5730639100074768, -0.5627394318580627, -0.5555706024169922, -0.5437185764312744, -0.5357890725135803, -0.5234861373901367, -0.5152773261070251, -0.5176513195037842, -0.6252459287643433, -0.7068484425544739]\n"
     ]
    },
    {
     "name": "stderr",
     "output_type": "stream",
     "text": [
      "No artists with labels found to put in legend.  Note that artists whose label start with an underscore are ignored when legend() is called with no argument.\n"
     ]
    },
    {
     "name": "stdout",
     "output_type": "stream",
     "text": [
      "Index: 34\n",
      "[-0.5627394318580627, -0.5555706024169922, -0.5437185764312744, -0.5357890725135803, -0.5234861373901367, -0.5152773261070251, -0.5176513195037842, -0.6252459287643433, -0.7068484425544739, -0.7666677832603455]\n"
     ]
    },
    {
     "name": "stderr",
     "output_type": "stream",
     "text": [
      "No artists with labels found to put in legend.  Note that artists whose label start with an underscore are ignored when legend() is called with no argument.\n"
     ]
    },
    {
     "name": "stdout",
     "output_type": "stream",
     "text": [
      "Index: 35\n",
      "[-0.5555706024169922, -0.5437185764312744, -0.5357890725135803, -0.5234861373901367, -0.5152773261070251, -0.5176513195037842, -0.6252459287643433, -0.7068484425544739, -0.7666677832603455, -0.8041563034057617]\n"
     ]
    },
    {
     "name": "stderr",
     "output_type": "stream",
     "text": [
      "No artists with labels found to put in legend.  Note that artists whose label start with an underscore are ignored when legend() is called with no argument.\n"
     ]
    },
    {
     "name": "stdout",
     "output_type": "stream",
     "text": [
      "Index: 36\n",
      "[-0.5437185764312744, -0.5357890725135803, -0.5234861373901367, -0.5152773261070251, -0.5176513195037842, -0.6252459287643433, -0.7068484425544739, -0.7666677832603455, -0.8041563034057617, -0.8314368724822998]\n"
     ]
    },
    {
     "name": "stderr",
     "output_type": "stream",
     "text": [
      "No artists with labels found to put in legend.  Note that artists whose label start with an underscore are ignored when legend() is called with no argument.\n"
     ]
    },
    {
     "name": "stdout",
     "output_type": "stream",
     "text": [
      "Index: 37\n",
      "[-0.5357890725135803, -0.5234861373901367, -0.5152773261070251, -0.5176513195037842, -0.6252459287643433, -0.7068484425544739, -0.7666677832603455, -0.8041563034057617, -0.8314368724822998, -0.8459165692329407]\n"
     ]
    },
    {
     "name": "stderr",
     "output_type": "stream",
     "text": [
      "No artists with labels found to put in legend.  Note that artists whose label start with an underscore are ignored when legend() is called with no argument.\n"
     ]
    },
    {
     "name": "stdout",
     "output_type": "stream",
     "text": [
      "Index: 38\n",
      "[-0.5234861373901367, -0.5152773261070251, -0.5176513195037842, -0.6252459287643433, -0.7068484425544739, -0.7666677832603455, -0.8041563034057617, -0.8314368724822998, -0.8459165692329407, -0.857105553150177]\n"
     ]
    },
    {
     "name": "stderr",
     "output_type": "stream",
     "text": [
      "No artists with labels found to put in legend.  Note that artists whose label start with an underscore are ignored when legend() is called with no argument.\n"
     ]
    },
    {
     "name": "stdout",
     "output_type": "stream",
     "text": [
      "Index: 39\n",
      "[-0.5152773261070251, -0.5176513195037842, -0.6252459287643433, -0.7068484425544739, -0.7666677832603455, -0.8041563034057617, -0.8314368724822998, -0.8459165692329407, -0.857105553150177, -0.8604128360748291]\n"
     ]
    },
    {
     "name": "stderr",
     "output_type": "stream",
     "text": [
      "No artists with labels found to put in legend.  Note that artists whose label start with an underscore are ignored when legend() is called with no argument.\n"
     ]
    },
    {
     "name": "stdout",
     "output_type": "stream",
     "text": [
      "Index: 40\n",
      "[-0.5176513195037842, -0.6252459287643433, -0.7068484425544739, -0.7666677832603455, -0.8041563034057617, -0.8314368724822998, -0.8459165692329407, -0.857105553150177, -0.8604128360748291, -0.8643270134925842]\n"
     ]
    },
    {
     "name": "stderr",
     "output_type": "stream",
     "text": [
      "No artists with labels found to put in legend.  Note that artists whose label start with an underscore are ignored when legend() is called with no argument.\n"
     ]
    },
    {
     "name": "stdout",
     "output_type": "stream",
     "text": [
      "Index: 41\n",
      "[-0.6252459287643433, -0.7068484425544739, -0.7666677832603455, -0.8041563034057617, -0.8314368724822998, -0.8459165692329407, -0.857105553150177, -0.8604128360748291, -0.8643270134925842, -0.8634630441665649]\n"
     ]
    },
    {
     "name": "stderr",
     "output_type": "stream",
     "text": [
      "No artists with labels found to put in legend.  Note that artists whose label start with an underscore are ignored when legend() is called with no argument.\n"
     ]
    },
    {
     "name": "stdout",
     "output_type": "stream",
     "text": [
      "Index: 42\n",
      "[-0.7068484425544739, -0.7666677832603455, -0.8041563034057617, -0.8314368724822998, -0.8459165692329407, -0.857105553150177, -0.8604128360748291, -0.8643270134925842, -0.8634630441665649, -0.8646858334541321]\n"
     ]
    },
    {
     "name": "stderr",
     "output_type": "stream",
     "text": [
      "No artists with labels found to put in legend.  Note that artists whose label start with an underscore are ignored when legend() is called with no argument.\n"
     ]
    },
    {
     "name": "stdout",
     "output_type": "stream",
     "text": [
      "Index: 43\n",
      "[-0.7666677832603455, -0.8041563034057617, -0.8314368724822998, -0.8459165692329407, -0.857105553150177, -0.8604128360748291, -0.8643270134925842, -0.8634630441665649, -0.8646858334541321, -0.8624470233917236]\n"
     ]
    },
    {
     "name": "stderr",
     "output_type": "stream",
     "text": [
      "No artists with labels found to put in legend.  Note that artists whose label start with an underscore are ignored when legend() is called with no argument.\n"
     ]
    },
    {
     "name": "stdout",
     "output_type": "stream",
     "text": [
      "Index: 44\n",
      "[-0.8041563034057617, -0.8314368724822998, -0.8459165692329407, -0.857105553150177, -0.8604128360748291, -0.8643270134925842, -0.8634630441665649, -0.8646858334541321, -0.8624470233917236, -0.8633764386177063]\n"
     ]
    },
    {
     "name": "stderr",
     "output_type": "stream",
     "text": [
      "No artists with labels found to put in legend.  Note that artists whose label start with an underscore are ignored when legend() is called with no argument.\n"
     ]
    },
    {
     "name": "stdout",
     "output_type": "stream",
     "text": [
      "Index: 45\n",
      "[-0.8314368724822998, -0.8459165692329407, -0.857105553150177, -0.8604128360748291, -0.8643270134925842, -0.8634630441665649, -0.8646858334541321, -0.8624470233917236, -0.8633764386177063, -0.8758683204650879]\n"
     ]
    },
    {
     "name": "stderr",
     "output_type": "stream",
     "text": [
      "No artists with labels found to put in legend.  Note that artists whose label start with an underscore are ignored when legend() is called with no argument.\n"
     ]
    },
    {
     "name": "stdout",
     "output_type": "stream",
     "text": [
      "Index: 46\n",
      "[-0.8459165692329407, -0.857105553150177, -0.8604128360748291, -0.8643270134925842, -0.8634630441665649, -0.8646858334541321, -0.8624470233917236, -0.8633764386177063, -0.8758683204650879, -0.8936656713485718]\n"
     ]
    },
    {
     "name": "stderr",
     "output_type": "stream",
     "text": [
      "No artists with labels found to put in legend.  Note that artists whose label start with an underscore are ignored when legend() is called with no argument.\n"
     ]
    },
    {
     "name": "stdout",
     "output_type": "stream",
     "text": [
      "Index: 47\n",
      "[-0.857105553150177, -0.8604128360748291, -0.8643270134925842, -0.8634630441665649, -0.8646858334541321, -0.8624470233917236, -0.8633764386177063, -0.8758683204650879, -0.8936656713485718, -0.9064154624938964]\n"
     ]
    },
    {
     "name": "stderr",
     "output_type": "stream",
     "text": [
      "No artists with labels found to put in legend.  Note that artists whose label start with an underscore are ignored when legend() is called with no argument.\n"
     ]
    },
    {
     "name": "stdout",
     "output_type": "stream",
     "text": [
      "Index: 48\n",
      "[-0.8604128360748291, -0.8643270134925842, -0.8634630441665649, -0.8646858334541321, -0.8624470233917236, -0.8633764386177063, -0.8758683204650879, -0.8936656713485718, -0.9064154624938964, -0.918025553226471]\n"
     ]
    },
    {
     "name": "stderr",
     "output_type": "stream",
     "text": [
      "No artists with labels found to put in legend.  Note that artists whose label start with an underscore are ignored when legend() is called with no argument.\n"
     ]
    },
    {
     "name": "stdout",
     "output_type": "stream",
     "text": [
      "Index: 49\n",
      "[-0.8643270134925842, -0.8634630441665649, -0.8646858334541321, -0.8624470233917236, -0.8633764386177063, -0.8758683204650879, -0.8936656713485718, -0.9064154624938964, -0.918025553226471, -0.9269710183143616]\n"
     ]
    },
    {
     "name": "stderr",
     "output_type": "stream",
     "text": [
      "No artists with labels found to put in legend.  Note that artists whose label start with an underscore are ignored when legend() is called with no argument.\n"
     ]
    },
    {
     "name": "stdout",
     "output_type": "stream",
     "text": [
      "Index: 50\n",
      "[-0.8634630441665649, -0.8646858334541321, -0.8624470233917236, -0.8633764386177063, -0.8758683204650879, -0.8936656713485718, -0.9064154624938964, -0.918025553226471, -0.9269710183143616, -0.9337393641471864]\n"
     ]
    },
    {
     "name": "stderr",
     "output_type": "stream",
     "text": [
      "No artists with labels found to put in legend.  Note that artists whose label start with an underscore are ignored when legend() is called with no argument.\n"
     ]
    },
    {
     "name": "stdout",
     "output_type": "stream",
     "text": [
      "Index: 51\n",
      "[-0.8646858334541321, -0.8624470233917236, -0.8633764386177063, -0.8758683204650879, -0.8936656713485718, -0.9064154624938964, -0.918025553226471, -0.9269710183143616, -0.9337393641471864, -0.9384836554527284]\n"
     ]
    },
    {
     "name": "stderr",
     "output_type": "stream",
     "text": [
      "No artists with labels found to put in legend.  Note that artists whose label start with an underscore are ignored when legend() is called with no argument.\n"
     ]
    },
    {
     "name": "stdout",
     "output_type": "stream",
     "text": [
      "Index: 52\n",
      "[-0.8624470233917236, -0.8633764386177063, -0.8758683204650879, -0.8936656713485718, -0.9064154624938964, -0.918025553226471, -0.9269710183143616, -0.9337393641471864, -0.9384836554527284, -0.9416453838348388]\n"
     ]
    },
    {
     "name": "stderr",
     "output_type": "stream",
     "text": [
      "No artists with labels found to put in legend.  Note that artists whose label start with an underscore are ignored when legend() is called with no argument.\n"
     ]
    },
    {
     "name": "stdout",
     "output_type": "stream",
     "text": [
      "Index: 53\n",
      "[-0.8633764386177063, -0.8758683204650879, -0.8936656713485718, -0.9064154624938964, -0.918025553226471, -0.9269710183143616, -0.9337393641471864, -0.9384836554527284, -0.9416453838348388, -0.9434224367141724]\n"
     ]
    },
    {
     "name": "stderr",
     "output_type": "stream",
     "text": [
      "No artists with labels found to put in legend.  Note that artists whose label start with an underscore are ignored when legend() is called with no argument.\n"
     ]
    },
    {
     "name": "stdout",
     "output_type": "stream",
     "text": [
      "Index: 54\n",
      "[-0.8758683204650879, -0.8936656713485718, -0.9064154624938964, -0.918025553226471, -0.9269710183143616, -0.9337393641471864, -0.9384836554527284, -0.9416453838348388, -0.9434224367141724, -0.9441582560539246]\n"
     ]
    },
    {
     "name": "stderr",
     "output_type": "stream",
     "text": [
      "No artists with labels found to put in legend.  Note that artists whose label start with an underscore are ignored when legend() is called with no argument.\n"
     ]
    },
    {
     "name": "stdout",
     "output_type": "stream",
     "text": [
      "Index: 55\n",
      "[-0.8936656713485718, -0.9064154624938964, -0.918025553226471, -0.9269710183143616, -0.9337393641471864, -0.9384836554527284, -0.9416453838348388, -0.9434224367141724, -0.9441582560539246, -0.944175899028778]\n"
     ]
    },
    {
     "name": "stderr",
     "output_type": "stream",
     "text": [
      "No artists with labels found to put in legend.  Note that artists whose label start with an underscore are ignored when legend() is called with no argument.\n"
     ]
    },
    {
     "name": "stdout",
     "output_type": "stream",
     "text": [
      "Index: 56\n",
      "[-0.9064154624938964, -0.918025553226471, -0.9269710183143616, -0.9337393641471864, -0.9384836554527284, -0.9416453838348388, -0.9434224367141724, -0.9441582560539246, -0.944175899028778, -0.9436187744140624]\n"
     ]
    },
    {
     "name": "stderr",
     "output_type": "stream",
     "text": [
      "No artists with labels found to put in legend.  Note that artists whose label start with an underscore are ignored when legend() is called with no argument.\n"
     ]
    },
    {
     "name": "stdout",
     "output_type": "stream",
     "text": [
      "Index: 57\n",
      "[-0.918025553226471, -0.9269710183143616, -0.9337393641471864, -0.9384836554527284, -0.9416453838348388, -0.9434224367141724, -0.9441582560539246, -0.944175899028778, -0.9436187744140624, -0.9426136612892152]\n"
     ]
    },
    {
     "name": "stderr",
     "output_type": "stream",
     "text": [
      "No artists with labels found to put in legend.  Note that artists whose label start with an underscore are ignored when legend() is called with no argument.\n"
     ]
    },
    {
     "name": "stdout",
     "output_type": "stream",
     "text": [
      "Index: 58\n",
      "[-0.9269710183143616, -0.9337393641471864, -0.9384836554527284, -0.9416453838348388, -0.9434224367141724, -0.9441582560539246, -0.944175899028778, -0.9436187744140624, -0.9426136612892152, -0.9413643479347228]\n"
     ]
    },
    {
     "name": "stderr",
     "output_type": "stream",
     "text": [
      "No artists with labels found to put in legend.  Note that artists whose label start with an underscore are ignored when legend() is called with no argument.\n"
     ]
    },
    {
     "name": "stdout",
     "output_type": "stream",
     "text": [
      "Index: 59\n",
      "[-0.9337393641471864, -0.9384836554527284, -0.9416453838348388, -0.9434224367141724, -0.9441582560539246, -0.944175899028778, -0.9436187744140624, -0.9426136612892152, -0.9413643479347228, -0.939895510673523]\n"
     ]
    },
    {
     "name": "stderr",
     "output_type": "stream",
     "text": [
      "No artists with labels found to put in legend.  Note that artists whose label start with an underscore are ignored when legend() is called with no argument.\n"
     ]
    },
    {
     "name": "stdout",
     "output_type": "stream",
     "text": [
      "Index: 60\n",
      "[-0.9384836554527284, -0.9416453838348388, -0.9434224367141724, -0.9441582560539246, -0.944175899028778, -0.9436187744140624, -0.9426136612892152, -0.9413643479347228, -0.939895510673523, -0.938298225402832]\n"
     ]
    },
    {
     "name": "stderr",
     "output_type": "stream",
     "text": [
      "No artists with labels found to put in legend.  Note that artists whose label start with an underscore are ignored when legend() is called with no argument.\n"
     ]
    },
    {
     "name": "stdout",
     "output_type": "stream",
     "text": [
      "Index: 61\n",
      "[-0.9416453838348388, -0.9434224367141724, -0.9441582560539246, -0.944175899028778, -0.9436187744140624, -0.9426136612892152, -0.9413643479347228, -0.939895510673523, -0.938298225402832, -0.9367771744728088]\n"
     ]
    },
    {
     "name": "stderr",
     "output_type": "stream",
     "text": [
      "No artists with labels found to put in legend.  Note that artists whose label start with an underscore are ignored when legend() is called with no argument.\n"
     ]
    },
    {
     "name": "stdout",
     "output_type": "stream",
     "text": [
      "Index: 62\n",
      "[-0.9434224367141724, -0.9441582560539246, -0.944175899028778, -0.9436187744140624, -0.9426136612892152, -0.9413643479347228, -0.939895510673523, -0.938298225402832, -0.9367771744728088, -0.935042679309845]\n"
     ]
    },
    {
     "name": "stderr",
     "output_type": "stream",
     "text": [
      "No artists with labels found to put in legend.  Note that artists whose label start with an underscore are ignored when legend() is called with no argument.\n"
     ]
    },
    {
     "name": "stdout",
     "output_type": "stream",
     "text": [
      "Index: 63\n",
      "[-0.9441582560539246, -0.944175899028778, -0.9436187744140624, -0.9426136612892152, -0.9413643479347228, -0.939895510673523, -0.938298225402832, -0.9367771744728088, -0.935042679309845, -0.9332646727561952]\n"
     ]
    },
    {
     "name": "stderr",
     "output_type": "stream",
     "text": [
      "No artists with labels found to put in legend.  Note that artists whose label start with an underscore are ignored when legend() is called with no argument.\n"
     ]
    },
    {
     "name": "stdout",
     "output_type": "stream",
     "text": [
      "Index: 64\n",
      "[-0.944175899028778, -0.9436187744140624, -0.9426136612892152, -0.9413643479347228, -0.939895510673523, -0.938298225402832, -0.9367771744728088, -0.935042679309845, -0.9332646727561952, -0.9314811825752258]\n"
     ]
    },
    {
     "name": "stderr",
     "output_type": "stream",
     "text": [
      "No artists with labels found to put in legend.  Note that artists whose label start with an underscore are ignored when legend() is called with no argument.\n"
     ]
    },
    {
     "name": "stdout",
     "output_type": "stream",
     "text": [
      "Index: 65\n",
      "[-0.9436187744140624, -0.9426136612892152, -0.9413643479347228, -0.939895510673523, -0.938298225402832, -0.9367771744728088, -0.935042679309845, -0.9332646727561952, -0.9314811825752258, -0.929723620414734]\n"
     ]
    },
    {
     "name": "stderr",
     "output_type": "stream",
     "text": [
      "No artists with labels found to put in legend.  Note that artists whose label start with an underscore are ignored when legend() is called with no argument.\n"
     ]
    },
    {
     "name": "stdout",
     "output_type": "stream",
     "text": [
      "Index: 66\n",
      "[-0.9426136612892152, -0.9413643479347228, -0.939895510673523, -0.938298225402832, -0.9367771744728088, -0.935042679309845, -0.9332646727561952, -0.9314811825752258, -0.929723620414734, -0.928004026412964]\n"
     ]
    },
    {
     "name": "stderr",
     "output_type": "stream",
     "text": [
      "No artists with labels found to put in legend.  Note that artists whose label start with an underscore are ignored when legend() is called with no argument.\n"
     ]
    },
    {
     "name": "stdout",
     "output_type": "stream",
     "text": [
      "Index: 67\n",
      "[-0.9413643479347228, -0.939895510673523, -0.938298225402832, -0.9367771744728088, -0.935042679309845, -0.9332646727561952, -0.9314811825752258, -0.929723620414734, -0.928004026412964, -0.9263197183609008]\n"
     ]
    },
    {
     "name": "stderr",
     "output_type": "stream",
     "text": [
      "No artists with labels found to put in legend.  Note that artists whose label start with an underscore are ignored when legend() is called with no argument.\n"
     ]
    },
    {
     "name": "stdout",
     "output_type": "stream",
     "text": [
      "Index: 68\n",
      "[-0.939895510673523, -0.938298225402832, -0.9367771744728088, -0.935042679309845, -0.9332646727561952, -0.9314811825752258, -0.929723620414734, -0.928004026412964, -0.9263197183609008, -0.9247046709060668]\n"
     ]
    },
    {
     "name": "stderr",
     "output_type": "stream",
     "text": [
      "No artists with labels found to put in legend.  Note that artists whose label start with an underscore are ignored when legend() is called with no argument.\n"
     ]
    },
    {
     "name": "stdout",
     "output_type": "stream",
     "text": [
      "Index: 69\n",
      "[-0.938298225402832, -0.9367771744728088, -0.935042679309845, -0.9332646727561952, -0.9314811825752258, -0.929723620414734, -0.928004026412964, -0.9263197183609008, -0.9247046709060668, -0.9231504201889038]\n"
     ]
    },
    {
     "name": "stderr",
     "output_type": "stream",
     "text": [
      "No artists with labels found to put in legend.  Note that artists whose label start with an underscore are ignored when legend() is called with no argument.\n"
     ]
    },
    {
     "name": "stdout",
     "output_type": "stream",
     "text": [
      "Index: 70\n",
      "[-0.9367771744728088, -0.935042679309845, -0.9332646727561952, -0.9314811825752258, -0.929723620414734, -0.928004026412964, -0.9263197183609008, -0.9247046709060668, -0.9231504201889038, -0.9218143224716188]\n"
     ]
    },
    {
     "name": "stderr",
     "output_type": "stream",
     "text": [
      "No artists with labels found to put in legend.  Note that artists whose label start with an underscore are ignored when legend() is called with no argument.\n"
     ]
    },
    {
     "name": "stdout",
     "output_type": "stream",
     "text": [
      "Index: 71\n",
      "[-0.935042679309845, -0.9332646727561952, -0.9314811825752258, -0.929723620414734, -0.928004026412964, -0.9263197183609008, -0.9247046709060668, -0.9231504201889038, -0.9218143224716188, -0.9204010367393494]\n"
     ]
    },
    {
     "name": "stderr",
     "output_type": "stream",
     "text": [
      "No artists with labels found to put in legend.  Note that artists whose label start with an underscore are ignored when legend() is called with no argument.\n"
     ]
    },
    {
     "name": "stdout",
     "output_type": "stream",
     "text": [
      "Index: 72\n",
      "[-0.9332646727561952, -0.9314811825752258, -0.929723620414734, -0.928004026412964, -0.9263197183609008, -0.9247046709060668, -0.9231504201889038, -0.9218143224716188, -0.9204010367393494, -0.9190634489059448]\n"
     ]
    },
    {
     "name": "stderr",
     "output_type": "stream",
     "text": [
      "No artists with labels found to put in legend.  Note that artists whose label start with an underscore are ignored when legend() is called with no argument.\n"
     ]
    },
    {
     "name": "stdout",
     "output_type": "stream",
     "text": [
      "Index: 73\n",
      "[-0.9314811825752258, -0.929723620414734, -0.928004026412964, -0.9263197183609008, -0.9247046709060668, -0.9231504201889038, -0.9218143224716188, -0.9204010367393494, -0.9190634489059448, -0.9177667498588562]\n"
     ]
    },
    {
     "name": "stderr",
     "output_type": "stream",
     "text": [
      "No artists with labels found to put in legend.  Note that artists whose label start with an underscore are ignored when legend() is called with no argument.\n"
     ]
    },
    {
     "name": "stdout",
     "output_type": "stream",
     "text": [
      "Index: 74\n",
      "[-0.929723620414734, -0.928004026412964, -0.9263197183609008, -0.9247046709060668, -0.9231504201889038, -0.9218143224716188, -0.9204010367393494, -0.9190634489059448, -0.9177667498588562, -0.9165105819702148]\n"
     ]
    },
    {
     "name": "stderr",
     "output_type": "stream",
     "text": [
      "No artists with labels found to put in legend.  Note that artists whose label start with an underscore are ignored when legend() is called with no argument.\n"
     ]
    },
    {
     "name": "stdout",
     "output_type": "stream",
     "text": [
      "Index: 75\n",
      "[-0.928004026412964, -0.9263197183609008, -0.9247046709060668, -0.9231504201889038, -0.9218143224716188, -0.9204010367393494, -0.9190634489059448, -0.9177667498588562, -0.9165105819702148, -0.9152907729148864]\n"
     ]
    },
    {
     "name": "stderr",
     "output_type": "stream",
     "text": [
      "No artists with labels found to put in legend.  Note that artists whose label start with an underscore are ignored when legend() is called with no argument.\n"
     ]
    },
    {
     "name": "stdout",
     "output_type": "stream",
     "text": [
      "Index: 76\n",
      "[-0.9263197183609008, -0.9247046709060668, -0.9231504201889038, -0.9218143224716188, -0.9204010367393494, -0.9190634489059448, -0.9177667498588562, -0.9165105819702148, -0.9152907729148864, -0.9141194224357604]\n"
     ]
    },
    {
     "name": "stderr",
     "output_type": "stream",
     "text": [
      "No artists with labels found to put in legend.  Note that artists whose label start with an underscore are ignored when legend() is called with no argument.\n"
     ]
    },
    {
     "name": "stdout",
     "output_type": "stream",
     "text": [
      "Index: 77\n",
      "[-0.9247046709060668, -0.9231504201889038, -0.9218143224716188, -0.9204010367393494, -0.9190634489059448, -0.9177667498588562, -0.9165105819702148, -0.9152907729148864, -0.9141194224357604, -0.9130955338478088]\n"
     ]
    },
    {
     "name": "stderr",
     "output_type": "stream",
     "text": [
      "No artists with labels found to put in legend.  Note that artists whose label start with an underscore are ignored when legend() is called with no argument.\n"
     ]
    },
    {
     "name": "stdout",
     "output_type": "stream",
     "text": [
      "Index: 78\n",
      "[-0.9231504201889038, -0.9218143224716188, -0.9204010367393494, -0.9190634489059448, -0.9177667498588562, -0.9165105819702148, -0.9152907729148864, -0.9141194224357604, -0.9130955338478088, -0.9119974374771118]\n"
     ]
    },
    {
     "name": "stderr",
     "output_type": "stream",
     "text": [
      "No artists with labels found to put in legend.  Note that artists whose label start with an underscore are ignored when legend() is called with no argument.\n"
     ]
    },
    {
     "name": "stdout",
     "output_type": "stream",
     "text": [
      "Index: 79\n",
      "[-0.9218143224716188, -0.9204010367393494, -0.9190634489059448, -0.9177667498588562, -0.9165105819702148, -0.9152907729148864, -0.9141194224357604, -0.9130955338478088, -0.9119974374771118, -0.9109728932380676]\n"
     ]
    },
    {
     "name": "stderr",
     "output_type": "stream",
     "text": [
      "No artists with labels found to put in legend.  Note that artists whose label start with an underscore are ignored when legend() is called with no argument.\n"
     ]
    },
    {
     "name": "stdout",
     "output_type": "stream",
     "text": [
      "Index: 80\n",
      "[-0.9204010367393494, -0.9190634489059448, -0.9177667498588562, -0.9165105819702148, -0.9152907729148864, -0.9141194224357604, -0.9130955338478088, -0.9119974374771118, -0.9109728932380676, -0.9100202322006226]\n"
     ]
    },
    {
     "name": "stderr",
     "output_type": "stream",
     "text": [
      "No artists with labels found to put in legend.  Note that artists whose label start with an underscore are ignored when legend() is called with no argument.\n"
     ]
    },
    {
     "name": "stdout",
     "output_type": "stream",
     "text": [
      "Index: 81\n",
      "[-0.9190634489059448, -0.9177667498588562, -0.9165105819702148, -0.9152907729148864, -0.9141194224357604, -0.9130955338478088, -0.9119974374771118, -0.9109728932380676, -0.9100202322006226, -0.9091475009918212]\n"
     ]
    },
    {
     "name": "stderr",
     "output_type": "stream",
     "text": [
      "No artists with labels found to put in legend.  Note that artists whose label start with an underscore are ignored when legend() is called with no argument.\n"
     ]
    },
    {
     "name": "stdout",
     "output_type": "stream",
     "text": [
      "Index: 82\n",
      "[-0.9177667498588562, -0.9165105819702148, -0.9152907729148864, -0.9141194224357604, -0.9130955338478088, -0.9119974374771118, -0.9109728932380676, -0.9100202322006226, -0.9091475009918212, -0.9083153009414672]\n"
     ]
    },
    {
     "name": "stderr",
     "output_type": "stream",
     "text": [
      "No artists with labels found to put in legend.  Note that artists whose label start with an underscore are ignored when legend() is called with no argument.\n"
     ]
    },
    {
     "name": "stdout",
     "output_type": "stream",
     "text": [
      "Index: 83\n",
      "[-0.9165105819702148, -0.9152907729148864, -0.9141194224357604, -0.9130955338478088, -0.9119974374771118, -0.9109728932380676, -0.9100202322006226, -0.9091475009918212, -0.9083153009414672, -0.907536804676056]\n"
     ]
    },
    {
     "name": "stderr",
     "output_type": "stream",
     "text": [
      "No artists with labels found to put in legend.  Note that artists whose label start with an underscore are ignored when legend() is called with no argument.\n"
     ]
    },
    {
     "name": "stdout",
     "output_type": "stream",
     "text": [
      "Index: 84\n",
      "[-0.9152907729148864, -0.9141194224357604, -0.9130955338478088, -0.9119974374771118, -0.9109728932380676, -0.9100202322006226, -0.9091475009918212, -0.9083153009414672, -0.907536804676056, -0.9068636298179626]\n"
     ]
    },
    {
     "name": "stderr",
     "output_type": "stream",
     "text": [
      "No artists with labels found to put in legend.  Note that artists whose label start with an underscore are ignored when legend() is called with no argument.\n"
     ]
    },
    {
     "name": "stdout",
     "output_type": "stream",
     "text": [
      "Index: 85\n",
      "[-0.9141194224357604, -0.9130955338478088, -0.9119974374771118, -0.9109728932380676, -0.9100202322006226, -0.9091475009918212, -0.9083153009414672, -0.907536804676056, -0.9068636298179626, -0.906182825565338]\n"
     ]
    },
    {
     "name": "stderr",
     "output_type": "stream",
     "text": [
      "No artists with labels found to put in legend.  Note that artists whose label start with an underscore are ignored when legend() is called with no argument.\n"
     ]
    },
    {
     "name": "stdout",
     "output_type": "stream",
     "text": [
      "Index: 86\n",
      "[-0.9130955338478088, -0.9119974374771118, -0.9109728932380676, -0.9100202322006226, -0.9091475009918212, -0.9083153009414672, -0.907536804676056, -0.9068636298179626, -0.906182825565338, -0.9055215716362]\n"
     ]
    },
    {
     "name": "stderr",
     "output_type": "stream",
     "text": [
      "No artists with labels found to put in legend.  Note that artists whose label start with an underscore are ignored when legend() is called with no argument.\n"
     ]
    },
    {
     "name": "stdout",
     "output_type": "stream",
     "text": [
      "Index: 87\n",
      "[-0.9119974374771118, -0.9109728932380676, -0.9100202322006226, -0.9091475009918212, -0.9083153009414672, -0.907536804676056, -0.9068636298179626, -0.906182825565338, -0.9055215716362, -0.9049275517463684]\n"
     ]
    },
    {
     "name": "stderr",
     "output_type": "stream",
     "text": [
      "No artists with labels found to put in legend.  Note that artists whose label start with an underscore are ignored when legend() is called with no argument.\n"
     ]
    },
    {
     "name": "stdout",
     "output_type": "stream",
     "text": [
      "Index: 88\n",
      "[-0.9109728932380676, -0.9100202322006226, -0.9091475009918212, -0.9083153009414672, -0.907536804676056, -0.9068636298179626, -0.906182825565338, -0.9055215716362, -0.9049275517463684, -0.9043489098548888]\n"
     ]
    },
    {
     "name": "stderr",
     "output_type": "stream",
     "text": [
      "No artists with labels found to put in legend.  Note that artists whose label start with an underscore are ignored when legend() is called with no argument.\n"
     ]
    },
    {
     "name": "stdout",
     "output_type": "stream",
     "text": [
      "Index: 89\n",
      "[-0.9100202322006226, -0.9091475009918212, -0.9083153009414672, -0.907536804676056, -0.9068636298179626, -0.906182825565338, -0.9055215716362, -0.9049275517463684, -0.9043489098548888, -0.9038125276565552]\n"
     ]
    },
    {
     "name": "stderr",
     "output_type": "stream",
     "text": [
      "No artists with labels found to put in legend.  Note that artists whose label start with an underscore are ignored when legend() is called with no argument.\n"
     ]
    },
    {
     "name": "stdout",
     "output_type": "stream",
     "text": [
      "Index: 90\n",
      "[-0.9091475009918212, -0.9083153009414672, -0.907536804676056, -0.9068636298179626, -0.906182825565338, -0.9055215716362, -0.9049275517463684, -0.9043489098548888, -0.9038125276565552, -0.9032767415046692]\n",
      "Index: 91\n"
     ]
    },
    {
     "name": "stderr",
     "output_type": "stream",
     "text": [
      "No artists with labels found to put in legend.  Note that artists whose label start with an underscore are ignored when legend() is called with no argument.\n"
     ]
    },
    {
     "name": "stdout",
     "output_type": "stream",
     "text": [
      "[-0.9083153009414672, -0.907536804676056, -0.9068636298179626, -0.906182825565338, -0.9055215716362, -0.9049275517463684, -0.9043489098548888, -0.9038125276565552, -0.9032767415046692, -0.902776062488556]\n"
     ]
    },
    {
     "name": "stderr",
     "output_type": "stream",
     "text": [
      "No artists with labels found to put in legend.  Note that artists whose label start with an underscore are ignored when legend() is called with no argument.\n"
     ]
    },
    {
     "name": "stdout",
     "output_type": "stream",
     "text": [
      "Index: 92\n",
      "[-0.907536804676056, -0.9068636298179626, -0.906182825565338, -0.9055215716362, -0.9049275517463684, -0.9043489098548888, -0.9038125276565552, -0.9032767415046692, -0.902776062488556, -0.9023273587226868]\n"
     ]
    },
    {
     "name": "stderr",
     "output_type": "stream",
     "text": [
      "No artists with labels found to put in legend.  Note that artists whose label start with an underscore are ignored when legend() is called with no argument.\n"
     ]
    },
    {
     "name": "stdout",
     "output_type": "stream",
     "text": [
      "Index: 93\n",
      "[-0.9068636298179626, -0.906182825565338, -0.9055215716362, -0.9049275517463684, -0.9043489098548888, -0.9038125276565552, -0.9032767415046692, -0.902776062488556, -0.9023273587226868, -0.9018821120262146]\n"
     ]
    },
    {
     "name": "stderr",
     "output_type": "stream",
     "text": [
      "No artists with labels found to put in legend.  Note that artists whose label start with an underscore are ignored when legend() is called with no argument.\n"
     ]
    }
   ],
   "source": [
    "if True : \n",
    "    for index,row in mergedTeleRadar.iterrows(): \n",
    "        frames = 10\n",
    "        if index >= len(mergedTeleRadar) - frames:\n",
    "            break\n",
    "        x_coords = [e for elm in mergedTeleRadar['x_coord'][index:index + frames] for e in elm]\n",
    "        y_coords = [e for elm in mergedTeleRadar['y_coord'][index:index + frames] for e in elm]\n",
    "        z_coords = [e for elm in mergedTeleRadar['z_coord'][index:index + frames] for e in elm]\n",
    "        doppler_idx = [e for elm in mergedTeleRadar['dopplerIdx'][index:index + frames] for e in elm]\n",
    "        colors = [cmap(val % 20) for val in doppler_idx]\n",
    "        sns.set(style=\"whitegrid\")\n",
    "        fig = plt.figure(figsize=(12,6))\n",
    "        ax1 = fig.add_subplot(121,projection='3d')\n",
    "        img1 = ax1.scatter(x_coords, y_coords, z_coords, c = colors, marker='o')\n",
    "        fig.colorbar(img1)\n",
    "        ax1.set_title('Radar PCD')\n",
    "        ax1.set_xlabel('X')\n",
    "        ax1.set_ylabel('Y')\n",
    "        ax1.set_zlabel('Z')\n",
    "        ax1.set_xlim(-10, 10)\n",
    "        ax1.set_ylim(0, 10)\n",
    "        ax1.set_zlim(-3, 10)\n",
    "\n",
    "        data = np.array([x_coords, y_coords, z_coords]).T\n",
    "        clustering = DBSCAN(eps=1, min_samples=15).fit(data)\n",
    "        cluster_labels = np.array(clustering.labels_)\n",
    "        current_centroids = calculate_centroids(data, cluster_labels)\n",
    "\n",
    "        # Get the closest centroids and assign consistent IDs, keeping only valid ones\n",
    "        valid_centroids, next_id = find_closest_centroid(previous_centroids, current_centroids, id_mapping, next_id, frame_counts, frame_threshold=10)\n",
    "        previous_centroids = current_centroids  # Update previous centroids for next frame\n",
    "        for centroid_id, centroid in valid_centroids:\n",
    "            color = cmap(centroid_id % 20)  # Assign unique color based on ID\n",
    "            ax1.scatter(centroid[0], centroid[1], centroid[2], marker='o', s=200, color=color, label=f'Cluster ID {centroid_id}')\n",
    "        print(f\"Index: {index}\")\n",
    "        ax2 = fig.add_subplot(122,projection='3d')\n",
    "        x_t = [elm for elm in mergedTeleRadar['x_m'][index:index + frames]]\n",
    "        print(x_t)\n",
    "        y_t = [elm for elm in mergedTeleRadar['y_m'][index:index + frames]]\n",
    "        z_t = [elm for elm in mergedTeleRadar['z_m'][index:index + frames]]  \n",
    "        img2 = ax2.scatter(x_t, y_t, z_t,marker='o')\n",
    "        fig.colorbar(img2)\n",
    "        ax2.set_title('Telemetry UAV')\n",
    "        ax2.set_xlabel('X')\n",
    "        ax2.set_ylabel('Y')\n",
    "        ax2.set_zlabel('Z')\n",
    "        ax2.set_xlim(-10, 10)\n",
    "        ax2.set_ylim(0, 10)\n",
    "        ax2.set_zlim(-3, 10)\n",
    "\n",
    "\n",
    "        plt.legend()\n",
    "        plt.tight_layout()\n",
    "        plt.savefig(f\"./visualization/merged/radarDepth__{str(index)}.png\")\n",
    "        # plt.show()\n",
    "        plt.close()\n",
    "        # if index ==3:\n",
    "        #     break\n",
    "    print(\"Sample Visulization Saved\")\n",
    "\n"
   ]
  },
  {
   "cell_type": "code",
   "execution_count": null,
   "metadata": {},
   "outputs": [],
   "source": []
  }
 ],
 "metadata": {
  "kernelspec": {
   "display_name": "mmenv",
   "language": "python",
   "name": "python3"
  },
  "language_info": {
   "codemirror_mode": {
    "name": "ipython",
    "version": 3
   },
   "file_extension": ".py",
   "mimetype": "text/x-python",
   "name": "python",
   "nbconvert_exporter": "python",
   "pygments_lexer": "ipython3",
   "version": "3.8.20"
  }
 },
 "nbformat": 4,
 "nbformat_minor": 2
}
